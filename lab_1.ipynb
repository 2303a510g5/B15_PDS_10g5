{
  "nbformat": 4,
  "nbformat_minor": 0,
  "metadata": {
    "colab": {
      "provenance": [],
      "authorship_tag": "ABX9TyNGxOifxPKHzb7+cNtdSxPZ",
      "include_colab_link": true
    },
    "kernelspec": {
      "name": "python3",
      "display_name": "Python 3"
    },
    "language_info": {
      "name": "python"
    }
  },
  "cells": [
    {
      "cell_type": "markdown",
      "metadata": {
        "id": "view-in-github",
        "colab_type": "text"
      },
      "source": [
        "<a href=\"https://colab.research.google.com/github/2303a510g5/B15_PDS_10g5/blob/main/lab_1.ipynb\" target=\"_parent\"><img src=\"https://colab.research.google.com/assets/colab-badge.svg\" alt=\"Open In Colab\"/></a>"
      ]
    },
    {
      "cell_type": "code",
      "execution_count": 14,
      "metadata": {
        "colab": {
          "base_uri": "https://localhost:8080/"
        },
        "id": "UTTTwZK8xtNX",
        "outputId": "99ab42b9-a9f7-495d-ec42-bf5fda6e50bf"
      },
      "outputs": [
        {
          "output_type": "stream",
          "name": "stdout",
          "text": [
            "\n",
            "--- Recursive Factorial Trace ---\n",
            "factorial( 5 ) =  5  * factorial( 4 )\n",
            "factorial( 4 ) =  4  * factorial( 3 )\n",
            "factorial( 3 ) =  3  * factorial( 2 )\n",
            "factorial( 2 ) =  2  * factorial( 1 )\n",
            "factorial( 1 ) = 1 (base case)\n",
            "Answer: 120\n"
          ]
        }
      ],
      "source": [
        "def factorial_recursive(n):\n",
        "    # check if n is negative\n",
        "    if n < 0:\n",
        "        print(\"Factorial not possible for negative numbers\")\n",
        "        return None\n",
        "    if n == 0 or n == 1:\n",
        "        print(\"factorial(\", n, \") = 1 (base case)\")\n",
        "        return 1\n",
        "    else:\n",
        "        print(\"factorial(\", n, \") = \", n, \" * factorial(\", n-1, \")\")\n",
        "        return n * factorial_recursive(n-1)\n",
        "num = 5\n",
        "print(\"\\n--- Recursive Factorial Trace ---\")\n",
        "print(\"Answer:\", factorial_recursive(num))"
      ]
    },
    {
      "cell_type": "code",
      "source": [
        "def factorial_tail(n, acc=1):\n",
        "    if n < 0:\n",
        "        return None\n",
        "    if n == 0 or n == 1:\n",
        "        return acc\n",
        "    return factorial_tail(n-1, n*acc)\n",
        "num = 5\n",
        "print(\"\\n--- Tail Recursive Factorial ---\")\n",
        "print(\"Answer:\", factorial_tail(num))"
      ],
      "metadata": {
        "colab": {
          "base_uri": "https://localhost:8080/"
        },
        "id": "LG2Qzj6UyDLd",
        "outputId": "e3f7e05d-7b47-405a-dd73-038ae543005d"
      },
      "execution_count": 15,
      "outputs": [
        {
          "output_type": "stream",
          "name": "stdout",
          "text": [
            "\n",
            "--- Tail Recursive Factorial ---\n",
            "Answer: 120\n"
          ]
        }
      ]
    },
    {
      "cell_type": "code",
      "source": [
        "def factorial_iterative(n):\n",
        "    if n < 0:\n",
        "        return None\n",
        "    fact = 1\n",
        "    for i in range(2, n+1):\n",
        "        fact *= i\n",
        "    return fact\n",
        "num = 5\n",
        "print(\"\\n--- Iterative Factorial ---\")\n",
        "print(\"Answer:\", factorial_iterative(num))"
      ],
      "metadata": {
        "colab": {
          "base_uri": "https://localhost:8080/"
        },
        "id": "UPIA8oTsyZox",
        "outputId": "a8262895-a4f9-433a-e87a-88847d014c16"
      },
      "execution_count": 16,
      "outputs": [
        {
          "output_type": "stream",
          "name": "stdout",
          "text": [
            "\n",
            "--- Iterative Factorial ---\n",
            "Answer: 120\n"
          ]
        }
      ]
    },
    {
      "cell_type": "code",
      "source": [
        "num = 5\n",
        "print(\"\\nComparison Table:\")\n",
        "print(\"Recursive:\", factorial_recursive(num))\n",
        "print(\"Tail Recursion:\", factorial_tail(num))\n",
        "print(\"Iterative:\", factorial_iterative(num))"
      ],
      "metadata": {
        "colab": {
          "base_uri": "https://localhost:8080/"
        },
        "id": "SHi4SFTByqHq",
        "outputId": "448d0299-cfa1-4eea-8c9b-7825b0708eda"
      },
      "execution_count": 17,
      "outputs": [
        {
          "output_type": "stream",
          "name": "stdout",
          "text": [
            "\n",
            "Comparison Table:\n",
            "factorial( 5 ) =  5  * factorial( 4 )\n",
            "factorial( 4 ) =  4  * factorial( 3 )\n",
            "factorial( 3 ) =  3  * factorial( 2 )\n",
            "factorial( 2 ) =  2  * factorial( 1 )\n",
            "factorial( 1 ) = 1 (base case)\n",
            "Recursive: 120\n",
            "Tail Recursion: 120\n",
            "Iterative: 120\n"
          ]
        }
      ]
    },
    {
      "cell_type": "markdown",
      "source": [
        "# 2nd question\n"
      ],
      "metadata": {
        "id": "qlTGt110y2FT"
      }
    },
    {
      "cell_type": "code",
      "source": [
        "def factorial_recursive(n):\n",
        "    if n < 0:\n",
        "        print(\"Factorial not possible for negative numbers\")\n",
        "        return None\n",
        "\n",
        "    if n == 0 or n == 1:   # base case\n",
        "        print(\"factorial(\", n, \") = 1\")\n",
        "        return 1\n",
        "\n",
        "    # recursive case\n",
        "    print(\"factorial(\", n, \") = \", n, \"* factorial(\", n-1, \")\")\n",
        "    return n * factorial_recursive(n-1)"
      ],
      "metadata": {
        "id": "Lo6Bi8KIy8o5"
      },
      "execution_count": 18,
      "outputs": []
    },
    {
      "cell_type": "code",
      "source": [
        "def nCr(n, r):\n",
        "    # validate input\n",
        "    if n < 0 or r < 0 or n < r:\n",
        "        print(\"Invalid values! make sure n ≥ r ≥ 0\")\n",
        "        return None\n",
        "\n",
        "    # edge cases\n",
        "    if r == 0 or n == r:\n",
        "        print(\"Since r=0 or n=r, nCr = 1 directly\")\n",
        "        return 1\n",
        "\n",
        "    # compute using formula nCr = n! / (r! * (n-r)!)\n",
        "    print(\"\\n--- Calculating n! ---\")\n",
        "    fact_n = factorial_recursive(n)\n",
        "    print(\"\\n--- Calculating r! ---\")\n",
        "    fact_r = factorial_recursive(r)\n",
        "    print(\"\\n--- Calculating (n-r)! ---\")\n",
        "    fact_n_r = factorial_recursive(n-r)\n",
        "\n",
        "    result = fact_n // (fact_r * fact_n_r)\n",
        "    return result"
      ],
      "metadata": {
        "id": "pPq9Uqa5zEwW"
      },
      "execution_count": 19,
      "outputs": []
    },
    {
      "cell_type": "code",
      "source": [
        "n = 6\n",
        "r = 3\n",
        "print(\"\\n--- nCr Calculation ---\")\n",
        "print(\"C(\", n, \",\", r, \") =\", nCr(n, r))"
      ],
      "metadata": {
        "colab": {
          "base_uri": "https://localhost:8080/"
        },
        "id": "-N--VWUhzJXj",
        "outputId": "7e8c4fe9-3958-4383-a845-205cf275fd9f"
      },
      "execution_count": 20,
      "outputs": [
        {
          "output_type": "stream",
          "name": "stdout",
          "text": [
            "\n",
            "--- nCr Calculation ---\n",
            "\n",
            "--- Calculating n! ---\n",
            "factorial( 6 ) =  6 * factorial( 5 )\n",
            "factorial( 5 ) =  5 * factorial( 4 )\n",
            "factorial( 4 ) =  4 * factorial( 3 )\n",
            "factorial( 3 ) =  3 * factorial( 2 )\n",
            "factorial( 2 ) =  2 * factorial( 1 )\n",
            "factorial( 1 ) = 1\n",
            "\n",
            "--- Calculating r! ---\n",
            "factorial( 3 ) =  3 * factorial( 2 )\n",
            "factorial( 2 ) =  2 * factorial( 1 )\n",
            "factorial( 1 ) = 1\n",
            "\n",
            "--- Calculating (n-r)! ---\n",
            "factorial( 3 ) =  3 * factorial( 2 )\n",
            "factorial( 2 ) =  2 * factorial( 1 )\n",
            "factorial( 1 ) = 1\n",
            "C( 6 , 3 ) = 20\n"
          ]
        }
      ]
    },
    {
      "cell_type": "code",
      "source": [
        "import math\n",
        "n = 6\n",
        "r = 3\n",
        "print(\"\\n--- Comparison with math.comb ---\")\n",
        "print(\"math.comb(\", n, \",\", r, \") =\", math.comb(n, r))"
      ],
      "metadata": {
        "colab": {
          "base_uri": "https://localhost:8080/"
        },
        "id": "WL9GHaVmzQ7_",
        "outputId": "c12a35e8-62be-4450-95ec-b3b6cf767c99"
      },
      "execution_count": 21,
      "outputs": [
        {
          "output_type": "stream",
          "name": "stdout",
          "text": [
            "\n",
            "--- Comparison with math.comb ---\n",
            "math.comb( 6 , 3 ) = 20\n"
          ]
        }
      ]
    }
  ]
}