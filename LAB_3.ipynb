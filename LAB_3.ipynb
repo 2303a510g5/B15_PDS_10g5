{
  "nbformat": 4,
  "nbformat_minor": 0,
  "metadata": {
    "colab": {
      "provenance": [],
      "authorship_tag": "ABX9TyNwGDj8jv5SsEd1Cvnokef+",
      "include_colab_link": true
    },
    "kernelspec": {
      "name": "python3",
      "display_name": "Python 3"
    },
    "language_info": {
      "name": "python"
    }
  },
  "cells": [
    {
      "cell_type": "markdown",
      "metadata": {
        "id": "view-in-github",
        "colab_type": "text"
      },
      "source": [
        "<a href=\"https://colab.research.google.com/github/2303a510g5/B15_PDS_10g5/blob/main/LAB_3.ipynb\" target=\"_parent\"><img src=\"https://colab.research.google.com/assets/colab-badge.svg\" alt=\"Open In Colab\"/></a>"
      ]
    },
    {
      "cell_type": "code",
      "execution_count": 1,
      "metadata": {
        "id": "fyIJ46DMk210"
      },
      "outputs": [],
      "source": [
        "import numpy as np\n",
        "\n",
        "# Create a 3D NumPy array (3x3x3) to simulate RGB image\n",
        "image = np.array([\n",
        "    [[123, 50, 200],\n",
        "     [34, 210, 89],\n",
        "     [255, 180, 75]],\n",
        "\n",
        "    [[45, 60, 90],\n",
        "     [220, 130, 40],\n",
        "     [10, 240, 180]],\n",
        "\n",
        "    [[100, 200, 150],\n",
        "     [60, 90, 120],\n",
        "     [80, 160, 220]]\n",
        "], dtype=np.uint8)"
      ]
    },
    {
      "cell_type": "code",
      "source": [
        "print(\"Original Image (3x3x3):\\n\", image)"
      ],
      "metadata": {
        "colab": {
          "base_uri": "https://localhost:8080/"
        },
        "id": "qXiY6xDwloKq",
        "outputId": "af8b40fe-0a76-49fd-86a9-873e10b73e08"
      },
      "execution_count": 2,
      "outputs": [
        {
          "output_type": "stream",
          "name": "stdout",
          "text": [
            "Original Image (3x3x3):\n",
            " [[[123  50 200]\n",
            "  [ 34 210  89]\n",
            "  [255 180  75]]\n",
            "\n",
            " [[ 45  60  90]\n",
            "  [220 130  40]\n",
            "  [ 10 240 180]]\n",
            "\n",
            " [[100 200 150]\n",
            "  [ 60  90 120]\n",
            "  [ 80 160 220]]]\n"
          ]
        }
      ]
    },
    {
      "cell_type": "code",
      "source": [
        "red_layer = image[:, :, 0]\n",
        "green_layer = image[:, :, 1]\n",
        "blue_layer = image[:, :, 2]\n",
        "\n",
        "print(\"\\nRed Channel:\\n\", red_layer)\n",
        "print(\"\\nGreen Channel:\\n\", green_layer)\n",
        "print(\"\\nBlue Channel:\\n\", blue_layer)"
      ],
      "metadata": {
        "colab": {
          "base_uri": "https://localhost:8080/"
        },
        "id": "IvJhNMSCl3fl",
        "outputId": "95fa490b-c532-4b66-957a-756cba4ad69b"
      },
      "execution_count": 3,
      "outputs": [
        {
          "output_type": "stream",
          "name": "stdout",
          "text": [
            "\n",
            "Red Channel:\n",
            " [[123  34 255]\n",
            " [ 45 220  10]\n",
            " [100  60  80]]\n",
            "\n",
            "Green Channel:\n",
            " [[ 50 210 180]\n",
            " [ 60 130 240]\n",
            " [200  90 160]]\n",
            "\n",
            "Blue Channel:\n",
            " [[200  89  75]\n",
            " [ 90  40 180]\n",
            " [150 120 220]]\n"
          ]
        }
      ]
    },
    {
      "cell_type": "code",
      "source": [
        "avg_red = np.mean(red_layer)\n",
        "avg_green = np.mean(green_layer)\n",
        "avg_blue = np.mean(blue_layer)\n",
        "\n",
        "print(\"\\nAverage Intensities:\")\n",
        "print(f\"Red: {avg_red:.2f}, Green: {avg_green:.2f}, Blue: {avg_blue:.2f}\")"
      ],
      "metadata": {
        "colab": {
          "base_uri": "https://localhost:8080/"
        },
        "id": "HEYHQndlmDf2",
        "outputId": "adee4d69-720a-49d6-9038-3e03bfc8b49b"
      },
      "execution_count": 4,
      "outputs": [
        {
          "output_type": "stream",
          "name": "stdout",
          "text": [
            "\n",
            "Average Intensities:\n",
            "Red: 103.00, Green: 146.67, Blue: 129.33\n"
          ]
        }
      ]
    },
    {
      "cell_type": "code",
      "source": [
        "brightened = np.clip(image + 50, 0, 255)\n",
        "print(\"\\nBrightened Image:\\n\", brightened)"
      ],
      "metadata": {
        "colab": {
          "base_uri": "https://localhost:8080/"
        },
        "id": "XESAcsCamVv-",
        "outputId": "b2665a6c-c2cf-47c6-efbe-3f1970eacc1e"
      },
      "execution_count": 5,
      "outputs": [
        {
          "output_type": "stream",
          "name": "stdout",
          "text": [
            "\n",
            "Brightened Image:\n",
            " [[[173 100 250]\n",
            "  [ 84   4 139]\n",
            "  [ 49 230 125]]\n",
            "\n",
            " [[ 95 110 140]\n",
            "  [ 14 180  90]\n",
            "  [ 60  34 230]]\n",
            "\n",
            " [[150 250 200]\n",
            "  [110 140 170]\n",
            "  [130 210  14]]]\n"
          ]
        }
      ]
    },
    {
      "cell_type": "code",
      "source": [
        "A = np.array([[1, 2, 3],\n",
        "              [4, 5, 6]])\n",
        "\n",
        "# 1D Array\n",
        "b = np.array([10, 20, 30])\n",
        "\n",
        "# Broadcasting (2D + 1D)\n",
        "C = A + b\n",
        "print(\"2D + 1D Broadcasting:\\n\", C)"
      ],
      "metadata": {
        "colab": {
          "base_uri": "https://localhost:8080/"
        },
        "id": "kmaHSruImZ6t",
        "outputId": "1b51d82f-f489-45ba-c620-ea8ea779324b"
      },
      "execution_count": 6,
      "outputs": [
        {
          "output_type": "stream",
          "name": "stdout",
          "text": [
            "2D + 1D Broadcasting:\n",
            " [[11 22 33]\n",
            " [14 25 36]]\n"
          ]
        }
      ]
    },
    {
      "cell_type": "code",
      "source": [
        "D = np.ones((2,3,4)) * 5\n",
        "scalar = 10\n",
        "E = D + scalar\n",
        "print(\"\\n3D + scalar Broadcasting:\\n\", E)"
      ],
      "metadata": {
        "colab": {
          "base_uri": "https://localhost:8080/"
        },
        "id": "jpKj0Q05mfOX",
        "outputId": "86e9a209-ccf8-4d00-c13b-268ec2e33ef3"
      },
      "execution_count": 7,
      "outputs": [
        {
          "output_type": "stream",
          "name": "stdout",
          "text": [
            "\n",
            "3D + scalar Broadcasting:\n",
            " [[[15. 15. 15. 15.]\n",
            "  [15. 15. 15. 15.]\n",
            "  [15. 15. 15. 15.]]\n",
            "\n",
            " [[15. 15. 15. 15.]\n",
            "  [15. 15. 15. 15.]\n",
            "  [15. 15. 15. 15.]]]\n"
          ]
        }
      ]
    },
    {
      "cell_type": "code",
      "source": [
        "b2 = np.array([1,2,3])\n",
        "expanded = b2[:, np.newaxis]\n",
        "print(\"\\nShape Transformation Example:\")\n",
        "print(\"Original b2.shape:\", b2.shape)\n",
        "print(\"Expanded b2.shape:\", expanded.shape)"
      ],
      "metadata": {
        "colab": {
          "base_uri": "https://localhost:8080/"
        },
        "id": "9-RLwI1TmkVA",
        "outputId": "efbd751b-a90b-4a91-c042-b81596db666f"
      },
      "execution_count": 8,
      "outputs": [
        {
          "output_type": "stream",
          "name": "stdout",
          "text": [
            "\n",
            "Shape Transformation Example:\n",
            "Original b2.shape: (3,)\n",
            "Expanded b2.shape: (3, 1)\n"
          ]
        }
      ]
    },
    {
      "cell_type": "code",
      "source": [
        "X = np.ones((2,3))\n",
        "# Changed Y to have shape (3,) to be compatible with X for broadcasting\n",
        "Y = np.ones((3,))\n",
        "Z = X + Y\n",
        "print(\"\\n2D + 1D Broadcasting (Fixed Example):\")\n",
        "print(\"X shape:\", X.shape)\n",
        "print(\"Y shape:\", Y.shape)\n",
        "print(\"Result Z:\\n\", Z)"
      ],
      "metadata": {
        "colab": {
          "base_uri": "https://localhost:8080/"
        },
        "id": "RCs1V5zLmxM1",
        "outputId": "93235a81-3b30-475a-908e-55cad3f70f5d"
      },
      "execution_count": 11,
      "outputs": [
        {
          "output_type": "stream",
          "name": "stdout",
          "text": [
            "\n",
            "2D + 1D Broadcasting (Fixed Example):\n",
            "X shape: (2, 3)\n",
            "Y shape: (3,)\n",
            "Result Z:\n",
            " [[2. 2. 2.]\n",
            " [2. 2. 2.]]\n"
          ]
        }
      ]
    }
  ]
}