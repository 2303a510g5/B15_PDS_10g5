{
  "nbformat": 4,
  "nbformat_minor": 0,
  "metadata": {
    "colab": {
      "provenance": [],
      "authorship_tag": "ABX9TyPMIHfvSsg32uDcackmlWZ6",
      "include_colab_link": true
    },
    "kernelspec": {
      "name": "python3",
      "display_name": "Python 3"
    },
    "language_info": {
      "name": "python"
    }
  },
  "cells": [
    {
      "cell_type": "markdown",
      "metadata": {
        "id": "view-in-github",
        "colab_type": "text"
      },
      "source": [
        "<a href=\"https://colab.research.google.com/github/2303a510g5/B15_PDS_10g5/blob/main/lab_6.ipynb\" target=\"_parent\"><img src=\"https://colab.research.google.com/assets/colab-badge.svg\" alt=\"Open In Colab\"/></a>"
      ]
    },
    {
      "cell_type": "code",
      "execution_count": null,
      "metadata": {
        "colab": {
          "base_uri": "https://localhost:8080/"
        },
        "id": "sUvf56hurG8j",
        "outputId": "47d6e0d3-e470-49f6-b306-bb1461fd806b"
      },
      "outputs": [
        {
          "output_type": "stream",
          "name": "stdout",
          "text": [
            "===== Missing values per column (Before Cleaning) =====\n",
            "PassengerId    0\n",
            "Name           0\n",
            "Age            2\n",
            "Sex            0\n",
            "Embarked       1\n",
            "Cabin          4\n",
            "Survived       0\n",
            "dtype: int64\n",
            "\n",
            "\n",
            "===== Missing values per column (After Cleaning) =====\n",
            "PassengerId    0\n",
            "Name           0\n",
            "Age            0\n",
            "Sex            0\n",
            "Embarked       0\n",
            "Survived       0\n",
            "dtype: int64\n"
          ]
        }
      ],
      "source": [
        "import pandas as pd\n",
        "\n",
        "df = pd.read_csv(\"titanic.csv\")\n",
        "\n",
        "print(\"===== Missing values per column (Before Cleaning) =====\")\n",
        "print(df.isnull().sum())\n",
        "print(\"\\n\")\n",
        "\n",
        "# Fill missing Age with mean (reassignment, no inplace warning)\n",
        "df['Age'] = df['Age'].fillna(df['Age'].mean())\n",
        "\n",
        "# Fill missing Embarked with mode\n",
        "df['Embarked'] = df['Embarked'].fillna(df['Embarked'].mode()[0])\n",
        "\n",
        "# Drop Cabin column\n",
        "df = df.drop(columns=['Cabin'])\n",
        "\n",
        "print(\"===== Missing values per column (After Cleaning) =====\")\n",
        "print(df.isnull().sum())"
      ]
    },
    {
      "cell_type": "code",
      "source": [
        "import pandas as pd\n",
        "data = {\n",
        "    \"StudentID\": [1, 2, 3, 4, 5, 6],\n",
        "    \"Name\": [\"Ravi\", \"Neha\", \"Kiran\", \"Sita\", \"Arjun\", \"Meena\"],\n",
        "    \"Gender\": [\"M\", \"Male\", \"male\", \"F\", \"Female\", \"female\"],\n",
        "    \"Marks\": [85, 90, 78, 92, 88, 76]\n",
        "}\n",
        "\n",
        "df = pd.DataFrame(data)\n",
        "print(\" Original Data\")\n",
        "print(df)\n",
        "df['Gender'] = df['Gender'].str.strip().str.capitalize()\n",
        "df['Gender'] = df['Gender'].replace({\n",
        "    \"M\": \"Male\",\n",
        "    \"F\": \"Female\"\n",
        "})\n",
        "print(\"\\n cleaned dataset (after standardizing gender)\")\n",
        "print(df)"
      ],
      "metadata": {
        "id": "zlZ_Oxc5yAcW",
        "outputId": "1cb9bfed-f6b5-43ef-a61c-69919502c8ed",
        "colab": {
          "base_uri": "https://localhost:8080/"
        }
      },
      "execution_count": null,
      "outputs": [
        {
          "output_type": "stream",
          "name": "stdout",
          "text": [
            " Original Data\n",
            "   StudentID   Name  Gender  Marks\n",
            "0          1   Ravi       M     85\n",
            "1          2   Neha    Male     90\n",
            "2          3  Kiran    male     78\n",
            "3          4   Sita       F     92\n",
            "4          5  Arjun  Female     88\n",
            "5          6  Meena  female     76\n",
            "\n",
            " cleaned dataset (after standardizing gender)\n",
            "   StudentID   Name  Gender  Marks\n",
            "0          1   Ravi    Male     85\n",
            "1          2   Neha    Male     90\n",
            "2          3  Kiran    Male     78\n",
            "3          4   Sita  Female     92\n",
            "4          5  Arjun  Female     88\n",
            "5          6  Meena  Female     76\n"
          ]
        }
      ]
    }
  ]
}