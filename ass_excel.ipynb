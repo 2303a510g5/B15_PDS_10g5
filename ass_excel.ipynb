{
  "nbformat": 4,
  "nbformat_minor": 0,
  "metadata": {
    "colab": {
      "provenance": [],
      "authorship_tag": "ABX9TyM0Zip9SvKhuBTX7KE4ma27",
      "include_colab_link": true
    },
    "kernelspec": {
      "name": "python3",
      "display_name": "Python 3"
    },
    "language_info": {
      "name": "python"
    }
  },
  "cells": [
    {
      "cell_type": "markdown",
      "metadata": {
        "id": "view-in-github",
        "colab_type": "text"
      },
      "source": [
        "<a href=\"https://colab.research.google.com/github/2303a510g5/B15_PDS_10g5/blob/main/ass_excel.ipynb\" target=\"_parent\"><img src=\"https://colab.research.google.com/assets/colab-badge.svg\" alt=\"Open In Colab\"/></a>"
      ]
    },
    {
      "cell_type": "code",
      "execution_count": null,
      "metadata": {
        "id": "HOOzRXHXpe5Q"
      },
      "outputs": [],
      "source": [
        "import pandas as pd\n",
        "student_data={\n",
        "    'Student_Id':[101,102,103,104,105],\n",
        "    'Name':['Ravi','Neha','kiran','Sita','Ram'],\n",
        "    'M1':[85,90,78,92,90],\n",
        "    'M2':[90,60,90,98,99],\n",
        "    'M3':[97,96,95,94,93],\n",
        "    }\n",
        "df=pd.DataFrame(student_data)\n",
        "df['Total_Marks'] = df['M1'] + df['M2'] + df['M3']\n",
        "print(df)\n",
        "df['Average_Marks'] = df[['M1', 'M2', 'M3']].mean(axis=1)\n",
        "print(df)\n",
        "df['Result'] = ['Pass' if all([df['M1'][i]>=40, df['M2'][i]>=40, df['M3'][i]>=40]) else 'Fail'\n",
        "                for i in range(len(df))]\n",
        "print(df)"
      ]
    }
  ]
}