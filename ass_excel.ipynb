{
  "nbformat": 4,
  "nbformat_minor": 0,
  "metadata": {
    "colab": {
      "provenance": [],
      "authorship_tag": "ABX9TyOfxzD63iPB0/4B5JJjYxev",
      "include_colab_link": true
    },
    "kernelspec": {
      "name": "python3",
      "display_name": "Python 3"
    },
    "language_info": {
      "name": "python"
    }
  },
  "cells": [
    {
      "cell_type": "markdown",
      "metadata": {
        "id": "view-in-github",
        "colab_type": "text"
      },
      "source": [
        "<a href=\"https://colab.research.google.com/github/2303a510g5/B15_PDS_10g5/blob/main/ass_excel.ipynb\" target=\"_parent\"><img src=\"https://colab.research.google.com/assets/colab-badge.svg\" alt=\"Open In Colab\"/></a>"
      ]
    },
    {
      "cell_type": "code",
      "execution_count": 2,
      "metadata": {
        "colab": {
          "base_uri": "https://localhost:8080/"
        },
        "id": "HOOzRXHXpe5Q",
        "outputId": "455c048a-4029-4de6-cd16-3c95744ff9d9"
      },
      "outputs": [
        {
          "output_type": "stream",
          "name": "stdout",
          "text": [
            "   Student_Id   Name  M1  M2  M3  Total_Marks  Average_Marks Result\n",
            "0         101   Ravi  85  90  97          272      90.666667   Pass\n",
            "1         102   Neha  90  60  96          246      82.000000   Pass\n",
            "2         103  kiran  78  90  95          263      87.666667   Pass\n",
            "3         104   Sita  92  98  94          284      94.666667   Pass\n",
            "4         105    Ram  90  99  93          282      94.000000   Pass\n"
          ]
        }
      ],
      "source": [
        "import pandas as pd\n",
        "student_data={\n",
        "    'Student_Id':[101,102,103,104,105],\n",
        "    'Name':['Ravi','Neha','kiran','Sita','Ram'],\n",
        "    'M1':[85,90,78,92,90],\n",
        "    'M2':[90,60,90,98,99],\n",
        "    'M3':[97,96,95,94,93],\n",
        "    }\n",
        "df=pd.DataFrame(student_data)\n",
        "df['Total_Marks'] = df['M1'] + df['M2'] + df['M3']\n",
        "#print(df)\n",
        "df['Average_Marks'] = df[['M1', 'M2', 'M3']].mean(axis=1)\n",
        "#print(df)\n",
        "df['Result'] = ['Pass' if all([df['M1'][i]>=40, df['M2'][i]>=40, df['M3'][i]>=40]) else 'Fail'\n",
        "                for i in range(len(df))]\n",
        "print(df)"
      ]
    }
  ]
}