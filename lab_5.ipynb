{
  "nbformat": 4,
  "nbformat_minor": 0,
  "metadata": {
    "colab": {
      "provenance": [],
      "authorship_tag": "ABX9TyO0L50k/9X0rpiaF7fiGLJP",
      "include_colab_link": true
    },
    "kernelspec": {
      "name": "python3",
      "display_name": "Python 3"
    },
    "language_info": {
      "name": "python"
    }
  },
  "cells": [
    {
      "cell_type": "markdown",
      "metadata": {
        "id": "view-in-github",
        "colab_type": "text"
      },
      "source": [
        "<a href=\"https://colab.research.google.com/github/2303a510g5/B15_PDS_10g5/blob/main/lab_5.ipynb\" target=\"_parent\"><img src=\"https://colab.research.google.com/assets/colab-badge.svg\" alt=\"Open In Colab\"/></a>"
      ]
    },
    {
      "cell_type": "code",
      "execution_count": 1,
      "metadata": {
        "colab": {
          "base_uri": "https://localhost:8080/"
        },
        "id": "jZobE3ZUiCZy",
        "outputId": "3b1a6678-3816-4375-f619-6a6198907dc7"
      },
      "outputs": [
        {
          "output_type": "stream",
          "name": "stdout",
          "text": [
            "mean     84.333333\n",
            "max      90.000000\n",
            "min      78.000000\n",
            "count     3.000000\n",
            "Name: score, dtype: float64\n",
            "       mean  max  min  count\n",
            "class                       \n",
            "A      81.5   85   78      2\n",
            "B      90.0   90   90      1\n"
          ]
        }
      ],
      "source": [
        "import pandas as pd\n",
        "\n",
        "students = pd.DataFrame({\n",
        "    \"id\": [1, 2, 3, 4],\n",
        "    \"name\": [\"Alice\", \"Bob\", \"Charlie\", \"David\"],\n",
        "    \"class\": [\"A\", \"B\", \"A\", \"B\"]\n",
        "})\n",
        "\n",
        "scores = pd.DataFrame({\n",
        "    \"id\": [1, 2, 3, 5],\n",
        "    \"score\": [85, 90, 78, 92]\n",
        "})\n",
        "\n",
        "inner = pd.merge(students, scores, on=\"id\", how=\"inner\")\n",
        "left = pd.merge(students, scores, on=\"id\", how=\"left\")\n",
        "right = pd.merge(students, scores, on=\"id\", how=\"right\")\n",
        "\n",
        "print(inner[\"score\"].agg([\"mean\", \"max\", \"min\", \"count\"]))\n",
        "print(inner.groupby(\"class\")[\"score\"].agg([\"mean\", \"max\", \"min\", \"count\"]))"
      ]
    },
    {
      "cell_type": "code",
      "source": [
        "import pandas as pd\n",
        "\n",
        "customers = pd.DataFrame({\n",
        "    \"customer_id\": [1, 2, 3, 4],\n",
        "    \"name\": [\"Alice\", \"Bob\", \"Charlie\", \"David\"],\n",
        "    \"region\": [\"North\", \"South\", \"North\", \"East\"]\n",
        "})\n",
        "\n",
        "sales = pd.DataFrame({\n",
        "    \"sale_id\": [101, 102, 103, 104, 105],\n",
        "    \"customer_id\": [1, 2, 1, 3, 5],\n",
        "    \"amount\": [250, 300, 150, 400, 500]\n",
        "})\n",
        "\n",
        "inner = pd.merge(customers, sales, on=\"customer_id\", how=\"inner\")\n",
        "left = pd.merge(customers, sales, on=\"customer_id\", how=\"left\")\n",
        "\n",
        "print(\"Sales Stats Overall:\\n\", inner[\"amount\"].agg([\"sum\", \"mean\", \"count\"]))\n",
        "print(\"\\nSales Stats by Customer:\\n\", inner.groupby(\"name\")[\"amount\"].sum())\n",
        "print(\"\\nSales Stats by Region:\\n\", inner.groupby(\"region\")[\"amount\"].agg([\"sum\", \"mean\", \"count\"]))"
      ],
      "metadata": {
        "id": "7zHEs4Q4oQGl"
      },
      "execution_count": null,
      "outputs": []
    }
  ]
}